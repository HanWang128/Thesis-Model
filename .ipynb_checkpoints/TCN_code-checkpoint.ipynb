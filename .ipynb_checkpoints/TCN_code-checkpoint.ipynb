{
 "cells": [
  {
   "cell_type": "code",
   "execution_count": 6,
   "id": "713c0e7f",
   "metadata": {},
   "outputs": [
    {
     "ename": "TypeError",
     "evalue": "'numpy._DTypeMeta' object is not subscriptable",
     "output_type": "error",
     "traceback": [
      "\u001b[0;31m---------------------------------------------------------------------------\u001b[0m",
      "\u001b[0;31mTypeError\u001b[0m                                 Traceback (most recent call last)",
      "\u001b[0;32m/var/folders/c6/_5880zh154q_t4yfgcxjn9lr0000gn/T/ipykernel_88713/2541999723.py\u001b[0m in \u001b[0;36m<module>\u001b[0;34m\u001b[0m\n\u001b[1;32m      3\u001b[0m \u001b[0;32mimport\u001b[0m \u001b[0mmatplotlib\u001b[0m\u001b[0;34m.\u001b[0m\u001b[0mpyplot\u001b[0m \u001b[0;32mas\u001b[0m \u001b[0mplt\u001b[0m\u001b[0;34m\u001b[0m\u001b[0;34m\u001b[0m\u001b[0m\n\u001b[1;32m      4\u001b[0m \u001b[0;32mfrom\u001b[0m \u001b[0msklearn\u001b[0m\u001b[0;34m.\u001b[0m\u001b[0mpreprocessing\u001b[0m \u001b[0;32mimport\u001b[0m \u001b[0mStandardScaler\u001b[0m\u001b[0;34m\u001b[0m\u001b[0;34m\u001b[0m\u001b[0m\n\u001b[0;32m----> 5\u001b[0;31m \u001b[0;32mfrom\u001b[0m \u001b[0mdarts\u001b[0m\u001b[0;34m.\u001b[0m\u001b[0mdataprocessing\u001b[0m\u001b[0;34m.\u001b[0m\u001b[0mtransformers\u001b[0m \u001b[0;32mimport\u001b[0m \u001b[0mScaler\u001b[0m\u001b[0;34m\u001b[0m\u001b[0;34m\u001b[0m\u001b[0m\n\u001b[0m\u001b[1;32m      6\u001b[0m \u001b[0;32mfrom\u001b[0m \u001b[0mdarts\u001b[0m\u001b[0;34m.\u001b[0m\u001b[0mmodels\u001b[0m \u001b[0;32mimport\u001b[0m \u001b[0mRNNModel\u001b[0m\u001b[0;34m,\u001b[0m \u001b[0mTheta\u001b[0m\u001b[0;34m,\u001b[0m \u001b[0mTCNModel\u001b[0m\u001b[0;34m\u001b[0m\u001b[0;34m\u001b[0m\u001b[0m\n\u001b[1;32m      7\u001b[0m \u001b[0;32mfrom\u001b[0m \u001b[0mdarts\u001b[0m\u001b[0;34m.\u001b[0m\u001b[0mmetrics\u001b[0m \u001b[0;32mimport\u001b[0m \u001b[0mmape\u001b[0m\u001b[0;34m,\u001b[0m \u001b[0mrmse\u001b[0m\u001b[0;34m,\u001b[0m \u001b[0mr2_score\u001b[0m\u001b[0;34m\u001b[0m\u001b[0;34m\u001b[0m\u001b[0m\n",
      "\u001b[0;32m~/opt/anaconda3/lib/python3.9/site-packages/darts/__init__.py\u001b[0m in \u001b[0;36m<module>\u001b[0;34m\u001b[0m\n\u001b[1;32m      9\u001b[0m \u001b[0;32mfrom\u001b[0m \u001b[0mmatplotlib\u001b[0m \u001b[0;32mimport\u001b[0m \u001b[0mcycler\u001b[0m\u001b[0;34m\u001b[0m\u001b[0;34m\u001b[0m\u001b[0m\n\u001b[1;32m     10\u001b[0m \u001b[0;34m\u001b[0m\u001b[0m\n\u001b[0;32m---> 11\u001b[0;31m \u001b[0;32mfrom\u001b[0m \u001b[0;34m.\u001b[0m\u001b[0mtimeseries\u001b[0m \u001b[0;32mimport\u001b[0m \u001b[0mTimeSeries\u001b[0m\u001b[0;34m,\u001b[0m \u001b[0mconcatenate\u001b[0m\u001b[0;34m\u001b[0m\u001b[0;34m\u001b[0m\u001b[0m\n\u001b[0m\u001b[1;32m     12\u001b[0m \u001b[0;34m\u001b[0m\u001b[0m\n\u001b[1;32m     13\u001b[0m \u001b[0m__version__\u001b[0m \u001b[0;34m=\u001b[0m \u001b[0;34m\"0.23.1\"\u001b[0m\u001b[0;34m\u001b[0m\u001b[0;34m\u001b[0m\u001b[0m\n",
      "\u001b[0;32m~/opt/anaconda3/lib/python3.9/site-packages/darts/timeseries.py\u001b[0m in \u001b[0;36m<module>\u001b[0;34m\u001b[0m\n\u001b[1;32m     43\u001b[0m \u001b[0;32mimport\u001b[0m \u001b[0mnumpy\u001b[0m \u001b[0;32mas\u001b[0m \u001b[0mnp\u001b[0m\u001b[0;34m\u001b[0m\u001b[0;34m\u001b[0m\u001b[0m\n\u001b[1;32m     44\u001b[0m \u001b[0;32mimport\u001b[0m \u001b[0mpandas\u001b[0m \u001b[0;32mas\u001b[0m \u001b[0mpd\u001b[0m\u001b[0;34m\u001b[0m\u001b[0;34m\u001b[0m\u001b[0m\n\u001b[0;32m---> 45\u001b[0;31m \u001b[0;32mimport\u001b[0m \u001b[0mxarray\u001b[0m \u001b[0;32mas\u001b[0m \u001b[0mxr\u001b[0m\u001b[0;34m\u001b[0m\u001b[0;34m\u001b[0m\u001b[0m\n\u001b[0m\u001b[1;32m     46\u001b[0m \u001b[0;32mfrom\u001b[0m \u001b[0mpandas\u001b[0m\u001b[0;34m.\u001b[0m\u001b[0mtseries\u001b[0m\u001b[0;34m.\u001b[0m\u001b[0mfrequencies\u001b[0m \u001b[0;32mimport\u001b[0m \u001b[0mto_offset\u001b[0m\u001b[0;34m\u001b[0m\u001b[0;34m\u001b[0m\u001b[0m\n\u001b[1;32m     47\u001b[0m \u001b[0;32mfrom\u001b[0m \u001b[0mscipy\u001b[0m\u001b[0;34m.\u001b[0m\u001b[0mstats\u001b[0m \u001b[0;32mimport\u001b[0m \u001b[0mkurtosis\u001b[0m\u001b[0;34m,\u001b[0m \u001b[0mskew\u001b[0m\u001b[0;34m\u001b[0m\u001b[0;34m\u001b[0m\u001b[0m\n",
      "\u001b[0;32m~/opt/anaconda3/lib/python3.9/site-packages/xarray/__init__.py\u001b[0m in \u001b[0;36m<module>\u001b[0;34m\u001b[0m\n\u001b[0;32m----> 1\u001b[0;31m \u001b[0;32mfrom\u001b[0m \u001b[0mxarray\u001b[0m \u001b[0;32mimport\u001b[0m \u001b[0mtesting\u001b[0m\u001b[0;34m,\u001b[0m \u001b[0mtutorial\u001b[0m\u001b[0;34m\u001b[0m\u001b[0;34m\u001b[0m\u001b[0m\n\u001b[0m\u001b[1;32m      2\u001b[0m from xarray.backends.api import (\n\u001b[1;32m      3\u001b[0m     \u001b[0mload_dataarray\u001b[0m\u001b[0;34m,\u001b[0m\u001b[0;34m\u001b[0m\u001b[0;34m\u001b[0m\u001b[0m\n\u001b[1;32m      4\u001b[0m     \u001b[0mload_dataset\u001b[0m\u001b[0;34m,\u001b[0m\u001b[0;34m\u001b[0m\u001b[0;34m\u001b[0m\u001b[0m\n\u001b[1;32m      5\u001b[0m     \u001b[0mopen_dataarray\u001b[0m\u001b[0;34m,\u001b[0m\u001b[0;34m\u001b[0m\u001b[0;34m\u001b[0m\u001b[0m\n",
      "\u001b[0;32m~/opt/anaconda3/lib/python3.9/site-packages/xarray/testing.py\u001b[0m in \u001b[0;36m<module>\u001b[0;34m\u001b[0m\n\u001b[1;32m      9\u001b[0m \u001b[0;34m\u001b[0m\u001b[0m\n\u001b[1;32m     10\u001b[0m \u001b[0;32mfrom\u001b[0m \u001b[0mxarray\u001b[0m\u001b[0;34m.\u001b[0m\u001b[0mcore\u001b[0m \u001b[0;32mimport\u001b[0m \u001b[0mduck_array_ops\u001b[0m\u001b[0;34m,\u001b[0m \u001b[0mformatting\u001b[0m\u001b[0;34m,\u001b[0m \u001b[0mutils\u001b[0m\u001b[0;34m\u001b[0m\u001b[0;34m\u001b[0m\u001b[0m\n\u001b[0;32m---> 11\u001b[0;31m \u001b[0;32mfrom\u001b[0m \u001b[0mxarray\u001b[0m\u001b[0;34m.\u001b[0m\u001b[0mcore\u001b[0m\u001b[0;34m.\u001b[0m\u001b[0mdataarray\u001b[0m \u001b[0;32mimport\u001b[0m \u001b[0mDataArray\u001b[0m\u001b[0;34m\u001b[0m\u001b[0;34m\u001b[0m\u001b[0m\n\u001b[0m\u001b[1;32m     12\u001b[0m \u001b[0;32mfrom\u001b[0m \u001b[0mxarray\u001b[0m\u001b[0;34m.\u001b[0m\u001b[0mcore\u001b[0m\u001b[0;34m.\u001b[0m\u001b[0mdataset\u001b[0m \u001b[0;32mimport\u001b[0m \u001b[0mDataset\u001b[0m\u001b[0;34m\u001b[0m\u001b[0;34m\u001b[0m\u001b[0m\n\u001b[1;32m     13\u001b[0m \u001b[0;32mfrom\u001b[0m \u001b[0mxarray\u001b[0m\u001b[0;34m.\u001b[0m\u001b[0mcore\u001b[0m\u001b[0;34m.\u001b[0m\u001b[0mindexes\u001b[0m \u001b[0;32mimport\u001b[0m \u001b[0mIndex\u001b[0m\u001b[0;34m,\u001b[0m \u001b[0mPandasIndex\u001b[0m\u001b[0;34m,\u001b[0m \u001b[0mPandasMultiIndex\u001b[0m\u001b[0;34m,\u001b[0m \u001b[0mdefault_indexes\u001b[0m\u001b[0;34m\u001b[0m\u001b[0;34m\u001b[0m\u001b[0m\n",
      "\u001b[0;32m~/opt/anaconda3/lib/python3.9/site-packages/xarray/core/dataarray.py\u001b[0m in \u001b[0;36m<module>\u001b[0;34m\u001b[0m\n\u001b[1;32m     10\u001b[0m \u001b[0;32mimport\u001b[0m \u001b[0mpandas\u001b[0m \u001b[0;32mas\u001b[0m \u001b[0mpd\u001b[0m\u001b[0;34m\u001b[0m\u001b[0;34m\u001b[0m\u001b[0m\n\u001b[1;32m     11\u001b[0m \u001b[0;34m\u001b[0m\u001b[0m\n\u001b[0;32m---> 12\u001b[0;31m \u001b[0;32mfrom\u001b[0m \u001b[0mxarray\u001b[0m\u001b[0;34m.\u001b[0m\u001b[0mcoding\u001b[0m\u001b[0;34m.\u001b[0m\u001b[0mcalendar_ops\u001b[0m \u001b[0;32mimport\u001b[0m \u001b[0mconvert_calendar\u001b[0m\u001b[0;34m,\u001b[0m \u001b[0minterp_calendar\u001b[0m\u001b[0;34m\u001b[0m\u001b[0;34m\u001b[0m\u001b[0m\n\u001b[0m\u001b[1;32m     13\u001b[0m \u001b[0;32mfrom\u001b[0m \u001b[0mxarray\u001b[0m\u001b[0;34m.\u001b[0m\u001b[0mcoding\u001b[0m\u001b[0;34m.\u001b[0m\u001b[0mcftimeindex\u001b[0m \u001b[0;32mimport\u001b[0m \u001b[0mCFTimeIndex\u001b[0m\u001b[0;34m\u001b[0m\u001b[0;34m\u001b[0m\u001b[0m\n\u001b[1;32m     14\u001b[0m \u001b[0;32mfrom\u001b[0m \u001b[0mxarray\u001b[0m\u001b[0;34m.\u001b[0m\u001b[0mcore\u001b[0m \u001b[0;32mimport\u001b[0m \u001b[0malignment\u001b[0m\u001b[0;34m,\u001b[0m \u001b[0mcomputation\u001b[0m\u001b[0;34m,\u001b[0m \u001b[0mdtypes\u001b[0m\u001b[0;34m,\u001b[0m \u001b[0mindexing\u001b[0m\u001b[0;34m,\u001b[0m \u001b[0mops\u001b[0m\u001b[0;34m,\u001b[0m \u001b[0mutils\u001b[0m\u001b[0;34m\u001b[0m\u001b[0;34m\u001b[0m\u001b[0m\n",
      "\u001b[0;32m~/opt/anaconda3/lib/python3.9/site-packages/xarray/coding/calendar_ops.py\u001b[0m in \u001b[0;36m<module>\u001b[0;34m\u001b[0m\n\u001b[1;32m      4\u001b[0m \u001b[0;32mimport\u001b[0m \u001b[0mpandas\u001b[0m \u001b[0;32mas\u001b[0m \u001b[0mpd\u001b[0m\u001b[0;34m\u001b[0m\u001b[0;34m\u001b[0m\u001b[0m\n\u001b[1;32m      5\u001b[0m \u001b[0;34m\u001b[0m\u001b[0m\n\u001b[0;32m----> 6\u001b[0;31m \u001b[0;32mfrom\u001b[0m \u001b[0mxarray\u001b[0m\u001b[0;34m.\u001b[0m\u001b[0mcoding\u001b[0m\u001b[0;34m.\u001b[0m\u001b[0mcftime_offsets\u001b[0m \u001b[0;32mimport\u001b[0m \u001b[0mdate_range_like\u001b[0m\u001b[0;34m,\u001b[0m \u001b[0mget_date_type\u001b[0m\u001b[0;34m\u001b[0m\u001b[0;34m\u001b[0m\u001b[0m\n\u001b[0m\u001b[1;32m      7\u001b[0m \u001b[0;32mfrom\u001b[0m \u001b[0mxarray\u001b[0m\u001b[0;34m.\u001b[0m\u001b[0mcoding\u001b[0m\u001b[0;34m.\u001b[0m\u001b[0mcftimeindex\u001b[0m \u001b[0;32mimport\u001b[0m \u001b[0mCFTimeIndex\u001b[0m\u001b[0;34m\u001b[0m\u001b[0;34m\u001b[0m\u001b[0m\n\u001b[1;32m      8\u001b[0m \u001b[0;32mfrom\u001b[0m \u001b[0mxarray\u001b[0m\u001b[0;34m.\u001b[0m\u001b[0mcoding\u001b[0m\u001b[0;34m.\u001b[0m\u001b[0mtimes\u001b[0m \u001b[0;32mimport\u001b[0m \u001b[0m_should_cftime_be_used\u001b[0m\u001b[0;34m,\u001b[0m \u001b[0mconvert_times\u001b[0m\u001b[0;34m\u001b[0m\u001b[0;34m\u001b[0m\u001b[0m\n",
      "\u001b[0;32m~/opt/anaconda3/lib/python3.9/site-packages/xarray/coding/cftime_offsets.py\u001b[0m in \u001b[0;36m<module>\u001b[0;34m\u001b[0m\n\u001b[1;32m     50\u001b[0m \u001b[0;32mimport\u001b[0m \u001b[0mpandas\u001b[0m \u001b[0;32mas\u001b[0m \u001b[0mpd\u001b[0m\u001b[0;34m\u001b[0m\u001b[0;34m\u001b[0m\u001b[0m\n\u001b[1;32m     51\u001b[0m \u001b[0;34m\u001b[0m\u001b[0m\n\u001b[0;32m---> 52\u001b[0;31m \u001b[0;32mfrom\u001b[0m \u001b[0mxarray\u001b[0m\u001b[0;34m.\u001b[0m\u001b[0mcoding\u001b[0m\u001b[0;34m.\u001b[0m\u001b[0mcftimeindex\u001b[0m \u001b[0;32mimport\u001b[0m \u001b[0mCFTimeIndex\u001b[0m\u001b[0;34m,\u001b[0m \u001b[0m_parse_iso8601_with_reso\u001b[0m\u001b[0;34m\u001b[0m\u001b[0;34m\u001b[0m\u001b[0m\n\u001b[0m\u001b[1;32m     53\u001b[0m from xarray.coding.times import (\n\u001b[1;32m     54\u001b[0m     \u001b[0m_is_standard_calendar\u001b[0m\u001b[0;34m,\u001b[0m\u001b[0;34m\u001b[0m\u001b[0;34m\u001b[0m\u001b[0m\n",
      "\u001b[0;32m~/opt/anaconda3/lib/python3.9/site-packages/xarray/coding/cftimeindex.py\u001b[0m in \u001b[0;36m<module>\u001b[0;34m\u001b[0m\n\u001b[1;32m     50\u001b[0m \u001b[0;32mfrom\u001b[0m \u001b[0mpackaging\u001b[0m\u001b[0;34m.\u001b[0m\u001b[0mversion\u001b[0m \u001b[0;32mimport\u001b[0m \u001b[0mVersion\u001b[0m\u001b[0;34m\u001b[0m\u001b[0;34m\u001b[0m\u001b[0m\n\u001b[1;32m     51\u001b[0m \u001b[0;34m\u001b[0m\u001b[0m\n\u001b[0;32m---> 52\u001b[0;31m from xarray.coding.times import (\n\u001b[0m\u001b[1;32m     53\u001b[0m     \u001b[0m_STANDARD_CALENDARS\u001b[0m\u001b[0;34m,\u001b[0m\u001b[0;34m\u001b[0m\u001b[0;34m\u001b[0m\u001b[0m\n\u001b[1;32m     54\u001b[0m     \u001b[0mcftime_to_nptime\u001b[0m\u001b[0;34m,\u001b[0m\u001b[0;34m\u001b[0m\u001b[0;34m\u001b[0m\u001b[0m\n",
      "\u001b[0;32m~/opt/anaconda3/lib/python3.9/site-packages/xarray/coding/times.py\u001b[0m in \u001b[0;36m<module>\u001b[0;34m\u001b[0m\n\u001b[1;32m     12\u001b[0m \u001b[0;32mfrom\u001b[0m \u001b[0mpandas\u001b[0m\u001b[0;34m.\u001b[0m\u001b[0merrors\u001b[0m \u001b[0;32mimport\u001b[0m \u001b[0mOutOfBoundsDatetime\u001b[0m\u001b[0;34m,\u001b[0m \u001b[0mOutOfBoundsTimedelta\u001b[0m\u001b[0;34m\u001b[0m\u001b[0;34m\u001b[0m\u001b[0m\n\u001b[1;32m     13\u001b[0m \u001b[0;34m\u001b[0m\u001b[0m\n\u001b[0;32m---> 14\u001b[0;31m from xarray.coding.variables import (\n\u001b[0m\u001b[1;32m     15\u001b[0m     \u001b[0mSerializationWarning\u001b[0m\u001b[0;34m,\u001b[0m\u001b[0;34m\u001b[0m\u001b[0;34m\u001b[0m\u001b[0m\n\u001b[1;32m     16\u001b[0m     \u001b[0mVariableCoder\u001b[0m\u001b[0;34m,\u001b[0m\u001b[0;34m\u001b[0m\u001b[0;34m\u001b[0m\u001b[0m\n",
      "\u001b[0;32m~/opt/anaconda3/lib/python3.9/site-packages/xarray/coding/variables.py\u001b[0m in \u001b[0;36m<module>\u001b[0;34m\u001b[0m\n\u001b[1;32m     12\u001b[0m \u001b[0;32mfrom\u001b[0m \u001b[0mxarray\u001b[0m\u001b[0;34m.\u001b[0m\u001b[0mcore\u001b[0m \u001b[0;32mimport\u001b[0m \u001b[0mdtypes\u001b[0m\u001b[0;34m,\u001b[0m \u001b[0mduck_array_ops\u001b[0m\u001b[0;34m,\u001b[0m \u001b[0mindexing\u001b[0m\u001b[0;34m\u001b[0m\u001b[0;34m\u001b[0m\u001b[0m\n\u001b[1;32m     13\u001b[0m \u001b[0;32mfrom\u001b[0m \u001b[0mxarray\u001b[0m\u001b[0;34m.\u001b[0m\u001b[0mcore\u001b[0m\u001b[0;34m.\u001b[0m\u001b[0mpycompat\u001b[0m \u001b[0;32mimport\u001b[0m \u001b[0mis_duck_dask_array\u001b[0m\u001b[0;34m\u001b[0m\u001b[0;34m\u001b[0m\u001b[0m\n\u001b[0;32m---> 14\u001b[0;31m \u001b[0;32mfrom\u001b[0m \u001b[0mxarray\u001b[0m\u001b[0;34m.\u001b[0m\u001b[0mcore\u001b[0m\u001b[0;34m.\u001b[0m\u001b[0mvariable\u001b[0m \u001b[0;32mimport\u001b[0m \u001b[0mVariable\u001b[0m\u001b[0;34m\u001b[0m\u001b[0;34m\u001b[0m\u001b[0m\n\u001b[0m\u001b[1;32m     15\u001b[0m \u001b[0;34m\u001b[0m\u001b[0m\n\u001b[1;32m     16\u001b[0m \u001b[0;32mif\u001b[0m \u001b[0mTYPE_CHECKING\u001b[0m\u001b[0;34m:\u001b[0m\u001b[0;34m\u001b[0m\u001b[0;34m\u001b[0m\u001b[0m\n",
      "\u001b[0;32m~/opt/anaconda3/lib/python3.9/site-packages/xarray/core/variable.py\u001b[0m in \u001b[0;36m<module>\u001b[0;34m\u001b[0m\n\u001b[1;32m     12\u001b[0m \u001b[0;32mimport\u001b[0m \u001b[0mnumpy\u001b[0m \u001b[0;32mas\u001b[0m \u001b[0mnp\u001b[0m\u001b[0;34m\u001b[0m\u001b[0;34m\u001b[0m\u001b[0m\n\u001b[1;32m     13\u001b[0m \u001b[0;32mimport\u001b[0m \u001b[0mpandas\u001b[0m \u001b[0;32mas\u001b[0m \u001b[0mpd\u001b[0m\u001b[0;34m\u001b[0m\u001b[0;34m\u001b[0m\u001b[0m\n\u001b[0;32m---> 14\u001b[0;31m \u001b[0;32mfrom\u001b[0m \u001b[0mnumpy\u001b[0m\u001b[0;34m.\u001b[0m\u001b[0mtyping\u001b[0m \u001b[0;32mimport\u001b[0m \u001b[0mArrayLike\u001b[0m\u001b[0;34m\u001b[0m\u001b[0;34m\u001b[0m\u001b[0m\n\u001b[0m\u001b[1;32m     15\u001b[0m \u001b[0;32mfrom\u001b[0m \u001b[0mpackaging\u001b[0m\u001b[0;34m.\u001b[0m\u001b[0mversion\u001b[0m \u001b[0;32mimport\u001b[0m \u001b[0mVersion\u001b[0m\u001b[0;34m\u001b[0m\u001b[0;34m\u001b[0m\u001b[0m\n\u001b[1;32m     16\u001b[0m \u001b[0;34m\u001b[0m\u001b[0m\n",
      "\u001b[0;32m~/opt/anaconda3/lib/python3.9/site-packages/numpy/typing/__init__.py\u001b[0m in \u001b[0;36m<module>\u001b[0;34m\u001b[0m\n\u001b[1;32m    327\u001b[0m     \u001b[0m_ShapeLike\u001b[0m \u001b[0;32mas\u001b[0m \u001b[0m_ShapeLike\u001b[0m\u001b[0;34m,\u001b[0m\u001b[0;34m\u001b[0m\u001b[0;34m\u001b[0m\u001b[0m\n\u001b[1;32m    328\u001b[0m )\n\u001b[0;32m--> 329\u001b[0;31m from ._dtype_like import (\n\u001b[0m\u001b[1;32m    330\u001b[0m     \u001b[0mDTypeLike\u001b[0m \u001b[0;32mas\u001b[0m \u001b[0mDTypeLike\u001b[0m\u001b[0;34m,\u001b[0m\u001b[0;34m\u001b[0m\u001b[0;34m\u001b[0m\u001b[0m\n\u001b[1;32m    331\u001b[0m     \u001b[0m_SupportsDType\u001b[0m \u001b[0;32mas\u001b[0m \u001b[0m_SupportsDType\u001b[0m\u001b[0;34m,\u001b[0m\u001b[0;34m\u001b[0m\u001b[0;34m\u001b[0m\u001b[0m\n",
      "\u001b[0;32m~/opt/anaconda3/lib/python3.9/site-packages/numpy/typing/_dtype_like.py\u001b[0m in \u001b[0;36m<module>\u001b[0;34m\u001b[0m\n\u001b[1;32m     14\u001b[0m \u001b[0;34m\u001b[0m\u001b[0m\n\u001b[1;32m     15\u001b[0m \u001b[0;32mfrom\u001b[0m \u001b[0;34m.\u001b[0m\u001b[0m_shape\u001b[0m \u001b[0;32mimport\u001b[0m \u001b[0m_ShapeLike\u001b[0m\u001b[0;34m\u001b[0m\u001b[0;34m\u001b[0m\u001b[0m\n\u001b[0;32m---> 16\u001b[0;31m \u001b[0;32mfrom\u001b[0m \u001b[0;34m.\u001b[0m\u001b[0m_generic_alias\u001b[0m \u001b[0;32mimport\u001b[0m \u001b[0m_DType\u001b[0m \u001b[0;32mas\u001b[0m \u001b[0mDType\u001b[0m\u001b[0;34m\u001b[0m\u001b[0;34m\u001b[0m\u001b[0m\n\u001b[0m\u001b[1;32m     17\u001b[0m \u001b[0;34m\u001b[0m\u001b[0m\n\u001b[1;32m     18\u001b[0m from ._char_codes import (\n",
      "\u001b[0;32m~/opt/anaconda3/lib/python3.9/site-packages/numpy/typing/_generic_alias.py\u001b[0m in \u001b[0;36m<module>\u001b[0;34m\u001b[0m\n\u001b[1;32m    209\u001b[0m \u001b[0;34m\u001b[0m\u001b[0m\n\u001b[1;32m    210\u001b[0m \u001b[0;32mif\u001b[0m \u001b[0mTYPE_CHECKING\u001b[0m \u001b[0;32mor\u001b[0m \u001b[0msys\u001b[0m\u001b[0;34m.\u001b[0m\u001b[0mversion_info\u001b[0m \u001b[0;34m>=\u001b[0m \u001b[0;34m(\u001b[0m\u001b[0;36m3\u001b[0m\u001b[0;34m,\u001b[0m \u001b[0;36m9\u001b[0m\u001b[0;34m)\u001b[0m\u001b[0;34m:\u001b[0m\u001b[0;34m\u001b[0m\u001b[0;34m\u001b[0m\u001b[0m\n\u001b[0;32m--> 211\u001b[0;31m     \u001b[0m_DType\u001b[0m \u001b[0;34m=\u001b[0m \u001b[0mnp\u001b[0m\u001b[0;34m.\u001b[0m\u001b[0mdtype\u001b[0m\u001b[0;34m[\u001b[0m\u001b[0mScalarType\u001b[0m\u001b[0;34m]\u001b[0m\u001b[0;34m\u001b[0m\u001b[0;34m\u001b[0m\u001b[0m\n\u001b[0m\u001b[1;32m    212\u001b[0m     \u001b[0mNDArray\u001b[0m \u001b[0;34m=\u001b[0m \u001b[0mnp\u001b[0m\u001b[0;34m.\u001b[0m\u001b[0mndarray\u001b[0m\u001b[0;34m[\u001b[0m\u001b[0mAny\u001b[0m\u001b[0;34m,\u001b[0m \u001b[0mnp\u001b[0m\u001b[0;34m.\u001b[0m\u001b[0mdtype\u001b[0m\u001b[0;34m[\u001b[0m\u001b[0mScalarType\u001b[0m\u001b[0;34m]\u001b[0m\u001b[0;34m]\u001b[0m\u001b[0;34m\u001b[0m\u001b[0;34m\u001b[0m\u001b[0m\n\u001b[1;32m    213\u001b[0m \u001b[0;32melse\u001b[0m\u001b[0;34m:\u001b[0m\u001b[0;34m\u001b[0m\u001b[0;34m\u001b[0m\u001b[0m\n",
      "\u001b[0;31mTypeError\u001b[0m: 'numpy._DTypeMeta' object is not subscriptable"
     ]
    }
   ],
   "source": [
    "import numpy as np\n",
    "import pandas as pd\n",
    "import matplotlib.pyplot as plt\n",
    "from sklearn.preprocessing import StandardScaler\n",
    "from darts.dataprocessing.transformers import Scaler\n",
    "from darts.models import RNNModel, Theta, TCNModel\n",
    "from darts.metrics import mape, rmse, r2_score\n",
    "from darts.utils.statistics import check_seasonality, plot_acf\n",
    "from darts.utils.timeseries_generation import datetime_attribute_timeseries\n",
    "\n",
    "from darts.datasets import SunspotsDataset, AirPassengersDataset\n",
    "import sys\n",
    "import time\n",
    "import warnings\n",
    "warnings.filterwarnings(\"ignore\")\n",
    "\n",
    "from math import sqrt\n",
    "from numpy import split\n",
    "from numpy import array\n",
    "from pandas import read_csv\n",
    "from sklearn.metrics import mean_squared_error\n",
    "from matplotlib import pyplot\n",
    "from keras.models import Sequential\n",
    "from keras.layers import Dense\n",
    "from keras.layers import Flatten\n",
    "from keras.layers.convolutional import Conv1D\n",
    "from keras.layers.convolutional import MaxPooling1D\n",
    "from keras.models import Model\n",
    "from keras.layers import Input\n",
    "from keras.layers.merge import concatenate"
   ]
  },
  {
   "cell_type": "code",
   "execution_count": null,
   "id": "a33763f1",
   "metadata": {},
   "outputs": [],
   "source": []
  },
  {
   "cell_type": "code",
   "execution_count": 5,
   "id": "2a577882",
   "metadata": {},
   "outputs": [
    {
     "name": "stdout",
     "output_type": "stream",
     "text": [
      "Collecting u8darts[all]\n",
      "  Downloading u8darts-0.23.1-py3-none-any.whl (592 kB)\n",
      "\u001b[K     |████████████████████████████████| 592 kB 1.4 MB/s eta 0:00:01\n",
      "\u001b[?25hRequirement already satisfied: pandas>=1.0.5 in /Users/sihanwang/opt/anaconda3/lib/python3.9/site-packages (from u8darts[all]) (1.5.3)\n",
      "Requirement already satisfied: numpy>=1.19.0 in /Users/sihanwang/opt/anaconda3/lib/python3.9/site-packages (from u8darts[all]) (1.22.4)\n",
      "Requirement already satisfied: shap>=0.40.0 in /Users/sihanwang/opt/anaconda3/lib/python3.9/site-packages (from u8darts[all]) (0.41.0)\n",
      "Requirement already satisfied: pmdarima>=1.8.0 in /Users/sihanwang/opt/anaconda3/lib/python3.9/site-packages (from u8darts[all]) (2.0.2)\n",
      "Requirement already satisfied: tbats>=1.1.0 in /Users/sihanwang/opt/anaconda3/lib/python3.9/site-packages (from u8darts[all]) (1.1.2)\n",
      "Requirement already satisfied: requests>=2.22.0 in /Users/sihanwang/opt/anaconda3/lib/python3.9/site-packages (from u8darts[all]) (2.27.1)\n",
      "Requirement already satisfied: tqdm>=4.60.0 in /Users/sihanwang/opt/anaconda3/lib/python3.9/site-packages (from u8darts[all]) (4.62.3)\n",
      "Requirement already satisfied: joblib>=0.16.0 in /Users/sihanwang/opt/anaconda3/lib/python3.9/site-packages (from u8darts[all]) (1.2.0)\n",
      "Requirement already satisfied: statsmodels>=0.13.0 in /Users/sihanwang/opt/anaconda3/lib/python3.9/site-packages (from u8darts[all]) (0.13.5)\n",
      "Requirement already satisfied: scikit-learn>=1.0.1 in /Users/sihanwang/opt/anaconda3/lib/python3.9/site-packages (from u8darts[all]) (1.2.1)\n",
      "Requirement already satisfied: lightgbm>=3.2.0 in /Users/sihanwang/opt/anaconda3/lib/python3.9/site-packages (from u8darts[all]) (3.3.5)\n",
      "Requirement already satisfied: statsforecast>=1.0.0 in /Users/sihanwang/opt/anaconda3/lib/python3.9/site-packages (from u8darts[all]) (1.4.0)\n",
      "Requirement already satisfied: xgboost>=1.6.0 in /Users/sihanwang/opt/anaconda3/lib/python3.9/site-packages (from u8darts[all]) (1.7.3)\n",
      "Requirement already satisfied: xarray>=0.17.0 in /Users/sihanwang/opt/anaconda3/lib/python3.9/site-packages (from u8darts[all]) (2023.2.0)\n",
      "Requirement already satisfied: matplotlib>=3.3.0 in /Users/sihanwang/opt/anaconda3/lib/python3.9/site-packages (from u8darts[all]) (3.4.3)\n",
      "Requirement already satisfied: scipy>=1.3.2 in /Users/sihanwang/opt/anaconda3/lib/python3.9/site-packages (from u8darts[all]) (1.10.0)\n",
      "Requirement already satisfied: prophet>=1.1.1 in /Users/sihanwang/opt/anaconda3/lib/python3.9/site-packages (from u8darts[all]) (1.1.2)\n",
      "Requirement already satisfied: nfoursid>=1.0.0 in /Users/sihanwang/opt/anaconda3/lib/python3.9/site-packages (from u8darts[all]) (1.0.1)\n",
      "Requirement already satisfied: holidays>=0.11.1 in /Users/sihanwang/opt/anaconda3/lib/python3.9/site-packages (from u8darts[all]) (0.19)\n",
      "Requirement already satisfied: pyod>=0.9.5 in /Users/sihanwang/opt/anaconda3/lib/python3.9/site-packages (from u8darts[all]) (1.0.7)\n",
      "Requirement already satisfied: catboost>=1.0.6 in /Users/sihanwang/opt/anaconda3/lib/python3.9/site-packages (from u8darts[all]) (1.1.1)\n",
      "Requirement already satisfied: pytorch-lightning>=1.5.0 in /Users/sihanwang/opt/anaconda3/lib/python3.9/site-packages (from u8darts[all]) (1.9.2)\n",
      "Requirement already satisfied: torch>=1.8.0 in /Users/sihanwang/opt/anaconda3/lib/python3.9/site-packages (from u8darts[all]) (1.11.0)\n",
      "Requirement already satisfied: graphviz in /Users/sihanwang/opt/anaconda3/lib/python3.9/site-packages (from catboost>=1.0.6->u8darts[all]) (0.20.1)\n",
      "Requirement already satisfied: plotly in /Users/sihanwang/opt/anaconda3/lib/python3.9/site-packages (from catboost>=1.0.6->u8darts[all]) (5.10.0)\n",
      "Requirement already satisfied: six in /Users/sihanwang/opt/anaconda3/lib/python3.9/site-packages (from catboost>=1.0.6->u8darts[all]) (1.16.0)\n",
      "Requirement already satisfied: PyMeeus in /Users/sihanwang/opt/anaconda3/lib/python3.9/site-packages (from holidays>=0.11.1->u8darts[all]) (0.5.12)\n",
      "Requirement already satisfied: python-dateutil in /Users/sihanwang/opt/anaconda3/lib/python3.9/site-packages (from holidays>=0.11.1->u8darts[all]) (2.8.2)\n",
      "Requirement already satisfied: convertdate>=2.3.0 in /Users/sihanwang/opt/anaconda3/lib/python3.9/site-packages (from holidays>=0.11.1->u8darts[all]) (2.4.0)\n",
      "Requirement already satisfied: hijri-converter in /Users/sihanwang/opt/anaconda3/lib/python3.9/site-packages (from holidays>=0.11.1->u8darts[all]) (2.2.4)\n",
      "Requirement already satisfied: korean-lunar-calendar in /Users/sihanwang/opt/anaconda3/lib/python3.9/site-packages (from holidays>=0.11.1->u8darts[all]) (0.3.1)\n",
      "Requirement already satisfied: wheel in /Users/sihanwang/opt/anaconda3/lib/python3.9/site-packages (from lightgbm>=3.2.0->u8darts[all]) (0.37.0)\n",
      "Requirement already satisfied: kiwisolver>=1.0.1 in /Users/sihanwang/opt/anaconda3/lib/python3.9/site-packages (from matplotlib>=3.3.0->u8darts[all]) (1.3.1)\n",
      "Requirement already satisfied: cycler>=0.10 in /Users/sihanwang/opt/anaconda3/lib/python3.9/site-packages (from matplotlib>=3.3.0->u8darts[all]) (0.10.0)\n",
      "Requirement already satisfied: pillow>=6.2.0 in /Users/sihanwang/opt/anaconda3/lib/python3.9/site-packages (from matplotlib>=3.3.0->u8darts[all]) (8.4.0)\n",
      "Requirement already satisfied: pyparsing>=2.2.1 in /Users/sihanwang/opt/anaconda3/lib/python3.9/site-packages (from matplotlib>=3.3.0->u8darts[all]) (3.0.4)\n",
      "Requirement already satisfied: pytz>=2020.1 in /Users/sihanwang/opt/anaconda3/lib/python3.9/site-packages (from pandas>=1.0.5->u8darts[all]) (2021.3)\n",
      "Requirement already satisfied: setuptools!=50.0.0,>=38.6.0 in /Users/sihanwang/opt/anaconda3/lib/python3.9/site-packages (from pmdarima>=1.8.0->u8darts[all]) (58.0.4)\n",
      "Requirement already satisfied: urllib3 in /Users/sihanwang/opt/anaconda3/lib/python3.9/site-packages (from pmdarima>=1.8.0->u8darts[all]) (1.26.7)\n",
      "Requirement already satisfied: Cython!=0.29.18,!=0.29.31,>=0.29 in /Users/sihanwang/opt/anaconda3/lib/python3.9/site-packages (from pmdarima>=1.8.0->u8darts[all]) (0.29.24)\n",
      "Requirement already satisfied: LunarCalendar>=0.0.9 in /Users/sihanwang/opt/anaconda3/lib/python3.9/site-packages (from prophet>=1.1.1->u8darts[all]) (0.0.9)\n",
      "Requirement already satisfied: cmdstanpy>=1.0.4 in /Users/sihanwang/opt/anaconda3/lib/python3.9/site-packages (from prophet>=1.1.1->u8darts[all]) (1.1.0)\n",
      "Requirement already satisfied: ephem>=3.7.5.3 in /Users/sihanwang/opt/anaconda3/lib/python3.9/site-packages (from LunarCalendar>=0.0.9->prophet>=1.1.1->u8darts[all]) (4.1.4)\n",
      "Requirement already satisfied: numba>=0.51 in /Users/sihanwang/opt/anaconda3/lib/python3.9/site-packages (from pyod>=0.9.5->u8darts[all]) (0.56.4)\n",
      "Requirement already satisfied: llvmlite<0.40,>=0.39.0dev0 in /Users/sihanwang/opt/anaconda3/lib/python3.9/site-packages (from numba>=0.51->pyod>=0.9.5->u8darts[all]) (0.39.1)\n",
      "Requirement already satisfied: PyYAML>=5.4 in /Users/sihanwang/opt/anaconda3/lib/python3.9/site-packages (from pytorch-lightning>=1.5.0->u8darts[all]) (6.0)\n",
      "Requirement already satisfied: lightning-utilities>=0.6.0.post0 in /Users/sihanwang/opt/anaconda3/lib/python3.9/site-packages (from pytorch-lightning>=1.5.0->u8darts[all]) (0.6.0.post0)\n",
      "Requirement already satisfied: typing-extensions>=4.0.0 in /Users/sihanwang/opt/anaconda3/lib/python3.9/site-packages (from pytorch-lightning>=1.5.0->u8darts[all]) (4.5.0)\n",
      "Requirement already satisfied: packaging>=17.1 in /Users/sihanwang/opt/anaconda3/lib/python3.9/site-packages (from pytorch-lightning>=1.5.0->u8darts[all]) (23.0)\n",
      "Requirement already satisfied: fsspec[http]>2021.06.0 in /Users/sihanwang/opt/anaconda3/lib/python3.9/site-packages (from pytorch-lightning>=1.5.0->u8darts[all]) (2021.8.1)\n",
      "Requirement already satisfied: torchmetrics>=0.7.0 in /Users/sihanwang/opt/anaconda3/lib/python3.9/site-packages (from pytorch-lightning>=1.5.0->u8darts[all]) (0.11.1)\n",
      "Requirement already satisfied: aiohttp in /Users/sihanwang/opt/anaconda3/lib/python3.9/site-packages (from fsspec[http]>2021.06.0->pytorch-lightning>=1.5.0->u8darts[all]) (3.8.4)\n",
      "Requirement already satisfied: idna<4,>=2.5 in /Users/sihanwang/opt/anaconda3/lib/python3.9/site-packages (from requests>=2.22.0->u8darts[all]) (3.2)\n",
      "Requirement already satisfied: certifi>=2017.4.17 in /Users/sihanwang/opt/anaconda3/lib/python3.9/site-packages (from requests>=2.22.0->u8darts[all]) (2021.10.8)\n",
      "Requirement already satisfied: charset-normalizer~=2.0.0 in /Users/sihanwang/opt/anaconda3/lib/python3.9/site-packages (from requests>=2.22.0->u8darts[all]) (2.0.4)\n"
     ]
    },
    {
     "name": "stdout",
     "output_type": "stream",
     "text": [
      "Requirement already satisfied: threadpoolctl>=2.0.0 in /Users/sihanwang/opt/anaconda3/lib/python3.9/site-packages (from scikit-learn>=1.0.1->u8darts[all]) (2.2.0)\n",
      "Requirement already satisfied: cloudpickle in /Users/sihanwang/opt/anaconda3/lib/python3.9/site-packages (from shap>=0.40.0->u8darts[all]) (2.0.0)\n",
      "Requirement already satisfied: slicer==0.0.7 in /Users/sihanwang/opt/anaconda3/lib/python3.9/site-packages (from shap>=0.40.0->u8darts[all]) (0.0.7)\n",
      "Requirement already satisfied: patsy>=0.5.2 in /Users/sihanwang/opt/anaconda3/lib/python3.9/site-packages (from statsmodels>=0.13.0->u8darts[all]) (0.5.2)\n",
      "Requirement already satisfied: attrs>=17.3.0 in /Users/sihanwang/opt/anaconda3/lib/python3.9/site-packages (from aiohttp->fsspec[http]>2021.06.0->pytorch-lightning>=1.5.0->u8darts[all]) (21.2.0)\n",
      "Requirement already satisfied: yarl<2.0,>=1.0 in /Users/sihanwang/opt/anaconda3/lib/python3.9/site-packages (from aiohttp->fsspec[http]>2021.06.0->pytorch-lightning>=1.5.0->u8darts[all]) (1.8.2)\n",
      "Requirement already satisfied: aiosignal>=1.1.2 in /Users/sihanwang/opt/anaconda3/lib/python3.9/site-packages (from aiohttp->fsspec[http]>2021.06.0->pytorch-lightning>=1.5.0->u8darts[all]) (1.3.1)\n",
      "Requirement already satisfied: frozenlist>=1.1.1 in /Users/sihanwang/opt/anaconda3/lib/python3.9/site-packages (from aiohttp->fsspec[http]>2021.06.0->pytorch-lightning>=1.5.0->u8darts[all]) (1.3.3)\n",
      "Requirement already satisfied: multidict<7.0,>=4.5 in /Users/sihanwang/opt/anaconda3/lib/python3.9/site-packages (from aiohttp->fsspec[http]>2021.06.0->pytorch-lightning>=1.5.0->u8darts[all]) (6.0.4)\n",
      "Requirement already satisfied: async-timeout<5.0,>=4.0.0a3 in /Users/sihanwang/opt/anaconda3/lib/python3.9/site-packages (from aiohttp->fsspec[http]>2021.06.0->pytorch-lightning>=1.5.0->u8darts[all]) (4.0.2)\n",
      "Requirement already satisfied: tenacity>=6.2.0 in /Users/sihanwang/opt/anaconda3/lib/python3.9/site-packages (from plotly->catboost>=1.0.6->u8darts[all]) (8.0.1)\n",
      "Installing collected packages: u8darts\n",
      "Successfully installed u8darts-0.23.1\n",
      "Note: you may need to restart the kernel to use updated packages.\n"
     ]
    }
   ],
   "source": [
    "pip install 'u8darts[all]'"
   ]
  },
  {
   "cell_type": "code",
   "execution_count": null,
   "id": "e6a3933b",
   "metadata": {},
   "outputs": [],
   "source": []
  },
  {
   "cell_type": "code",
   "execution_count": null,
   "id": "507ada63",
   "metadata": {},
   "outputs": [],
   "source": [
    "## read data\n",
    "data=pd.read_csv('new_data.csv')\n",
    "colnames=data.columns[1:12]\n",
    "colnames\n",
    "for i in range(len(colnames)):\n",
    "    plt.figure(100, figsize=(12,6))\n",
    "    data[colnames[i]].plot()\n",
    "    plt.xlabel(colnames[i])\n",
    "    plt.show()"
   ]
  },
  {
   "cell_type": "code",
   "execution_count": null,
   "id": "25704119",
   "metadata": {},
   "outputs": [],
   "source": []
  }
 ],
 "metadata": {
  "kernelspec": {
   "display_name": "Python 3 (ipykernel)",
   "language": "python",
   "name": "python3"
  },
  "language_info": {
   "codemirror_mode": {
    "name": "ipython",
    "version": 3
   },
   "file_extension": ".py",
   "mimetype": "text/x-python",
   "name": "python",
   "nbconvert_exporter": "python",
   "pygments_lexer": "ipython3",
   "version": "3.9.7"
  },
  "toc": {
   "base_numbering": 1,
   "nav_menu": {},
   "number_sections": true,
   "sideBar": true,
   "skip_h1_title": false,
   "title_cell": "Table of Contents",
   "title_sidebar": "Contents",
   "toc_cell": false,
   "toc_position": {},
   "toc_section_display": true,
   "toc_window_display": false
  }
 },
 "nbformat": 4,
 "nbformat_minor": 5
}
